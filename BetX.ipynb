{
 "cells": [
  {
   "cell_type": "markdown",
   "id": "33d7da92-982c-4f9f-8200-127de9c5f714",
   "metadata": {},
   "source": [
    "Cleaning my Betx data"
   ]
  },
  {
   "cell_type": "code",
   "execution_count": 1,
   "id": "03bd37e1-44e3-4aa3-b4a7-69509e536bf2",
   "metadata": {},
   "outputs": [],
   "source": [
    "import pandas as pd"
   ]
  },
  {
   "cell_type": "code",
   "execution_count": 2,
   "id": "a8e8025b-ba2e-40c7-b256-2fded4cfb306",
   "metadata": {},
   "outputs": [],
   "source": [
    "Bet_data = pd.read_csv('BET X RESPONSE.csv')"
   ]
  },
  {
   "cell_type": "code",
   "execution_count": 5,
   "id": "ace88f90-6803-4fb0-9d76-5aefa9009f67",
   "metadata": {},
   "outputs": [],
   "source": [
    "#Renaming the columns\n",
    "Bet = Bet_data.copy()"
   ]
  },
  {
   "cell_type": "code",
   "execution_count": 6,
   "id": "00b7dbb7-d627-4799-9c97-e020f45ff9b0",
   "metadata": {},
   "outputs": [
    {
     "data": {
      "text/html": [
       "<div>\n",
       "<style scoped>\n",
       "    .dataframe tbody tr th:only-of-type {\n",
       "        vertical-align: middle;\n",
       "    }\n",
       "\n",
       "    .dataframe tbody tr th {\n",
       "        vertical-align: top;\n",
       "    }\n",
       "\n",
       "    .dataframe thead th {\n",
       "        text-align: right;\n",
       "    }\n",
       "</style>\n",
       "<table border=\"1\" class=\"dataframe\">\n",
       "  <thead>\n",
       "    <tr style=\"text-align: right;\">\n",
       "      <th></th>\n",
       "      <th>Timestamp</th>\n",
       "      <th>Username</th>\n",
       "      <th>Age Group</th>\n",
       "      <th>Country</th>\n",
       "      <th>Residential</th>\n",
       "      <th>What money making skill do you have?</th>\n",
       "      <th>What do you do for fun?</th>\n",
       "      <th>Are you into sports betting? (90 minutes investment)</th>\n",
       "      <th>What's your favourite sports to invest on?</th>\n",
       "      <th>How often do you invest in sports weekly?</th>\n",
       "      <th>What's your favorite betting app?</th>\n",
       "      <th>Why are they better than others?</th>\n",
       "      <th>Have you ever missed placing a bet because of lack of funds, and the bet outcome was your prediction?</th>\n",
       "      <th>What do you think about the idea of betting with a different token? say your Data balance...</th>\n",
       "      <th>If given the option of betting with your data balance, will you be willing to ?</th>\n",
       "      <th>Which other new feature will you like to see on a betting app</th>\n",
       "    </tr>\n",
       "  </thead>\n",
       "  <tbody>\n",
       "    <tr>\n",
       "      <th>0</th>\n",
       "      <td>2025/05/14 10:45:43 AM GMT+1</td>\n",
       "      <td>manassehanyaora04@gmail.com</td>\n",
       "      <td>18 - 25</td>\n",
       "      <td>Nigeria</td>\n",
       "      <td>Lagos</td>\n",
       "      <td>Punter</td>\n",
       "      <td>Cuss at football players for 90 minutes</td>\n",
       "      <td>No ( I find it too interesting for me)</td>\n",
       "      <td>Football (not soccer)</td>\n",
       "      <td>Professional (2 times)</td>\n",
       "      <td>NaN</td>\n",
       "      <td>NaN</td>\n",
       "      <td>Yes</td>\n",
       "      <td>I will be the first to accept it</td>\n",
       "      <td>NaN</td>\n",
       "      <td>NaN</td>\n",
       "    </tr>\n",
       "    <tr>\n",
       "      <th>1</th>\n",
       "      <td>2025/05/14 11:53:46 AM GMT+1</td>\n",
       "      <td>anyaorabarnabas@gmail.com</td>\n",
       "      <td>18 - 25</td>\n",
       "      <td>Nigeria</td>\n",
       "      <td>Anambra</td>\n",
       "      <td>Punter</td>\n",
       "      <td>Cuss at football players for 90 minutes</td>\n",
       "      <td>Yes (i love begging for one more goal)</td>\n",
       "      <td>Football (not soccer)</td>\n",
       "      <td>Legend (3 times)</td>\n",
       "      <td>Sportybet</td>\n",
       "      <td>Cashout/ Withdrawal speed;Easy to deposit;High...</td>\n",
       "      <td>Yes</td>\n",
       "      <td>I will be the first to accept it</td>\n",
       "      <td>Yes</td>\n",
       "      <td>NaN</td>\n",
       "    </tr>\n",
       "    <tr>\n",
       "      <th>2</th>\n",
       "      <td>2025/05/14 8:56:13 PM GMT+1</td>\n",
       "      <td>onyealistegen54@gmail.com</td>\n",
       "      <td>18 - 25</td>\n",
       "      <td>Nigeria</td>\n",
       "      <td>Lagos</td>\n",
       "      <td>Parents</td>\n",
       "      <td>Netflix and maybe chill</td>\n",
       "      <td>Yes (i love begging for one more goal)</td>\n",
       "      <td>Football (not soccer)</td>\n",
       "      <td>Rookie (Once in a blue moon)</td>\n",
       "      <td>Sporty bet</td>\n",
       "      <td>Cashout/ Withdrawal speed;Easy to deposit;High...</td>\n",
       "      <td>Yes</td>\n",
       "      <td>I will be the first to accept it</td>\n",
       "      <td>Yes</td>\n",
       "      <td>.</td>\n",
       "    </tr>\n",
       "    <tr>\n",
       "      <th>3</th>\n",
       "      <td>2025/05/16 11:41:03 AM GMT+1</td>\n",
       "      <td>bigmoney170477@gmail.com</td>\n",
       "      <td>18 - 25</td>\n",
       "      <td>Nigeria</td>\n",
       "      <td>Anambra</td>\n",
       "      <td>Punter</td>\n",
       "      <td>Cuss at football players for 90 minutes</td>\n",
       "      <td>Yes (i love begging for one more goal)</td>\n",
       "      <td>Football (not soccer)</td>\n",
       "      <td>Professional (2 times)</td>\n",
       "      <td>Sporty bet</td>\n",
       "      <td>Cashout/ Withdrawal speed;Easy to deposit;High...</td>\n",
       "      <td>Yes</td>\n",
       "      <td>Undecided</td>\n",
       "      <td>Yes</td>\n",
       "      <td>Manager to collect card</td>\n",
       "    </tr>\n",
       "    <tr>\n",
       "      <th>4</th>\n",
       "      <td>2025/05/16 11:41:46 AM GMT+1</td>\n",
       "      <td>pchukwualuka@gmail.com</td>\n",
       "      <td>18 - 25</td>\n",
       "      <td>Nigeria</td>\n",
       "      <td>ANAMBRA</td>\n",
       "      <td>No job</td>\n",
       "      <td>Too old to be having fun</td>\n",
       "      <td>No ( I find it too interesting for me)</td>\n",
       "      <td>NaN</td>\n",
       "      <td>Never</td>\n",
       "      <td>None</td>\n",
       "      <td>Nothing specific</td>\n",
       "      <td>Yes</td>\n",
       "      <td>I will be the first to accept it</td>\n",
       "      <td>Maybe</td>\n",
       "      <td>None</td>\n",
       "    </tr>\n",
       "  </tbody>\n",
       "</table>\n",
       "</div>"
      ],
      "text/plain": [
       "                      Timestamp                     Username Age Group   \\\n",
       "0  2025/05/14 10:45:43 AM GMT+1  manassehanyaora04@gmail.com    18 - 25   \n",
       "1  2025/05/14 11:53:46 AM GMT+1    anyaorabarnabas@gmail.com    18 - 25   \n",
       "2   2025/05/14 8:56:13 PM GMT+1    onyealistegen54@gmail.com    18 - 25   \n",
       "3  2025/05/16 11:41:03 AM GMT+1     bigmoney170477@gmail.com    18 - 25   \n",
       "4  2025/05/16 11:41:46 AM GMT+1       pchukwualuka@gmail.com    18 - 25   \n",
       "\n",
       "   Country Residential  What money making skill do you have?  \\\n",
       "0  Nigeria        Lagos                               Punter   \n",
       "1  Nigeria      Anambra                               Punter   \n",
       "2  Nigeria        Lagos                              Parents   \n",
       "3  Nigeria     Anambra                                Punter   \n",
       "4  Nigeria     ANAMBRA                                No job   \n",
       "\n",
       "                   What do you do for fun?  \\\n",
       "0  Cuss at football players for 90 minutes   \n",
       "1  Cuss at football players for 90 minutes   \n",
       "2                  Netflix and maybe chill   \n",
       "3  Cuss at football players for 90 minutes   \n",
       "4                 Too old to be having fun   \n",
       "\n",
       "  Are you into sports betting? (90 minutes investment)  \\\n",
       "0             No ( I find it too interesting for me)     \n",
       "1             Yes (i love begging for one more goal)     \n",
       "2             Yes (i love begging for one more goal)     \n",
       "3             Yes (i love begging for one more goal)     \n",
       "4             No ( I find it too interesting for me)     \n",
       "\n",
       "  What's your favourite sports to invest on?  \\\n",
       "0                      Football (not soccer)   \n",
       "1                      Football (not soccer)   \n",
       "2                      Football (not soccer)   \n",
       "3                      Football (not soccer)   \n",
       "4                                        NaN   \n",
       "\n",
       "  How often do you invest in sports weekly?  \\\n",
       "0                    Professional (2 times)   \n",
       "1                          Legend (3 times)   \n",
       "2              Rookie (Once in a blue moon)   \n",
       "3                    Professional (2 times)   \n",
       "4                                     Never   \n",
       "\n",
       "  What's your favorite betting app?   \\\n",
       "0                                NaN   \n",
       "1                          Sportybet   \n",
       "2                         Sporty bet   \n",
       "3                        Sporty bet    \n",
       "4                              None    \n",
       "\n",
       "                    Why are they better than others?  \\\n",
       "0                                                NaN   \n",
       "1  Cashout/ Withdrawal speed;Easy to deposit;High...   \n",
       "2  Cashout/ Withdrawal speed;Easy to deposit;High...   \n",
       "3  Cashout/ Withdrawal speed;Easy to deposit;High...   \n",
       "4                                   Nothing specific   \n",
       "\n",
       "  Have you ever missed placing a bet because of lack of funds, and the bet outcome was your prediction?  \\\n",
       "0                                                Yes                                                      \n",
       "1                                                Yes                                                      \n",
       "2                                                Yes                                                      \n",
       "3                                                Yes                                                      \n",
       "4                                                Yes                                                      \n",
       "\n",
       "  What do you think about the idea of betting with a different token? say your Data balance...  \\\n",
       "0                   I will be the first to accept it                                             \n",
       "1                   I will be the first to accept it                                             \n",
       "2                   I will be the first to accept it                                             \n",
       "3                                          Undecided                                             \n",
       "4                   I will be the first to accept it                                             \n",
       "\n",
       "  If given the option of betting with your data balance, will you be willing to ?  \\\n",
       "0                                                NaN                                \n",
       "1                                                Yes                                \n",
       "2                                                Yes                                \n",
       "3                                                Yes                                \n",
       "4                                              Maybe                                \n",
       "\n",
       "  Which other new feature will you like to see on a betting app  \n",
       "0                                                NaN             \n",
       "1                                                NaN             \n",
       "2                                                  .             \n",
       "3                            Manager to collect card             \n",
       "4                                              None              "
      ]
     },
     "execution_count": 6,
     "metadata": {},
     "output_type": "execute_result"
    }
   ],
   "source": [
    "Bet.head()"
   ]
  },
  {
   "cell_type": "code",
   "execution_count": 18,
   "id": "e0178cd9-5c3e-4742-ba65-bdf602c9158f",
   "metadata": {},
   "outputs": [
    {
     "data": {
      "text/plain": [
       "Index(['Timestamp', 'Username', 'Age Group ', 'Country', 'Residential ',\n",
       "       'Occupation', 'Hobby', 'Do you Bet?', 'Favourite Betting Sports',\n",
       "       'Betting frequency', 'What's your favorite betting app? ',\n",
       "       'Why are they better than others?',\n",
       "       'Have you ever missed placing a bet because of lack of funds, and the bet outcome was your prediction?',\n",
       "       'What do you think about the idea of betting with a different token? say your Data balance...',\n",
       "       'If given the option of betting with your data balance, will you be willing to ?',\n",
       "       'Which other new feature will you like to see on a betting app'],\n",
       "      dtype='object')"
      ]
     },
     "execution_count": 18,
     "metadata": {},
     "output_type": "execute_result"
    }
   ],
   "source": [
    "Bet.columns"
   ]
  },
  {
   "cell_type": "code",
   "execution_count": 17,
   "id": "f3a40f21-ee1b-426c-a964-a7739bfb0d47",
   "metadata": {},
   "outputs": [],
   "source": [
    "#Renaming columns\n",
    "Bet.rename(columns={'How often do you invest in sports weekly?':'Betting frequency', 'Do you gamble?':'Do you Bet?',\n",
    "                    \"What's your favourite sports to invest on?\" : \"Favourite Betting Sports\"}, inplace=True)"
   ]
  },
  {
   "cell_type": "code",
   "execution_count": 23,
   "id": "2a32944b-fa05-4349-aa71-9c464ac840fb",
   "metadata": {},
   "outputs": [],
   "source": [
    "#Changing timestamp to date and time format\n",
    "Bet['Timestamp'] = pd.to_datetime(Bet['Timestamp'], errors='coerce')"
   ]
  },
  {
   "cell_type": "code",
   "execution_count": 27,
   "id": "c3e22301-6011-4b61-b38d-0473af5c46c0",
   "metadata": {},
   "outputs": [],
   "source": [
    "#Splitting it to Date and time\n",
    "Bet['date'] = Bet['Timestamp'].dt.date\n",
    "Bet['time'] = Bet['Timestamp'].dt.time"
   ]
  },
  {
   "cell_type": "code",
   "execution_count": 31,
   "id": "c1bd417d-3f8d-47a2-b3eb-ea374cd9d254",
   "metadata": {},
   "outputs": [],
   "source": [
    "#converting to datetype\n",
    "Bet.date = pd.to_datetime(Bet['date'], errors='coerce')"
   ]
  },
  {
   "cell_type": "code",
   "execution_count": 32,
   "id": "8497757c-869f-476f-b527-7fb8e3a802f3",
   "metadata": {},
   "outputs": [],
   "source": [
    "#converting to datetype\n",
    "Bet.time = pd.to_datetime(Bet['time'], errors='coerce')"
   ]
  },
  {
   "cell_type": "code",
   "execution_count": 37,
   "id": "406256c0-b248-45af-9b55-44a16bd0e490",
   "metadata": {},
   "outputs": [],
   "source": [
    "#Dropping Timestamp\n",
    "Bet.drop(['Timestamp'], axis= 1, inplace=True)"
   ]
  },
  {
   "cell_type": "code",
   "execution_count": 39,
   "id": "345dde4b-0780-41df-9618-14a11838787f",
   "metadata": {},
   "outputs": [],
   "source": [
    "#Dropping time\n",
    "Bet.drop(['time'], axis=1, inplace=True)"
   ]
  },
  {
   "cell_type": "code",
   "execution_count": 42,
   "id": "eb8b0607-c03d-4d45-9b7b-f4e9c57b2088",
   "metadata": {},
   "outputs": [],
   "source": [
    "#Renaming some columns\n",
    "Bet.rename(columns={'Which other new feature will you like to see on a betting app': 'New feature', 'date': 'Date'}, inplace=True)"
   ]
  },
  {
   "cell_type": "code",
   "execution_count": 44,
   "id": "006aac60-c7f8-467e-8d82-8d69bad1330a",
   "metadata": {},
   "outputs": [],
   "source": [
    "#Renaming another column\n",
    "Bet.rename(columns={\"What's your favorite betting app?\" : \"Favourite betting app\"}, inplace=True)"
   ]
  },
  {
   "cell_type": "code",
   "execution_count": 50,
   "id": "3296f7cf-3021-48c4-9184-73ba9b1ba37d",
   "metadata": {},
   "outputs": [],
   "source": [
    "#Filling all missing values with Not available since they have no adverse effect on our analysis\n",
    "Bet.fillna('NA', inplace=True)"
   ]
  },
  {
   "cell_type": "code",
   "execution_count": 51,
   "id": "1bedd42f-8735-43bc-a9a3-ae085aae746c",
   "metadata": {},
   "outputs": [
    {
     "name": "stdout",
     "output_type": "stream",
     "text": [
      "<class 'pandas.core.frame.DataFrame'>\n",
      "RangeIndex: 64 entries, 0 to 63\n",
      "Data columns (total 16 columns):\n",
      " #   Column                                                                                                 Non-Null Count  Dtype         \n",
      "---  ------                                                                                                 --------------  -----         \n",
      " 0   Username                                                                                               64 non-null     object        \n",
      " 1   Age Group                                                                                              64 non-null     object        \n",
      " 2   Country                                                                                                64 non-null     object        \n",
      " 3   Residential                                                                                            64 non-null     object        \n",
      " 4   Occupation                                                                                             64 non-null     object        \n",
      " 5   Hobby                                                                                                  64 non-null     object        \n",
      " 6   Do you Bet?                                                                                            64 non-null     object        \n",
      " 7   Favourite Betting Sports                                                                               64 non-null     object        \n",
      " 8   Betting frequency                                                                                      64 non-null     object        \n",
      " 9   What's your favorite betting app?                                                                      64 non-null     object        \n",
      " 10  Why are they better than others?                                                                       64 non-null     object        \n",
      " 11  Have you ever missed placing a bet because of lack of funds, and the bet outcome was your prediction?  64 non-null     object        \n",
      " 12  What do you think about the idea of betting with a different token? say your Data balance...           64 non-null     object        \n",
      " 13  If given the option of betting with your data balance, will you be willing to ?                        64 non-null     object        \n",
      " 14  New feature                                                                                            64 non-null     object        \n",
      " 15  Date                                                                                                   64 non-null     datetime64[ns]\n",
      "dtypes: datetime64[ns](1), object(15)\n",
      "memory usage: 8.1+ KB\n"
     ]
    }
   ],
   "source": [
    "Bet.info()"
   ]
  },
  {
   "cell_type": "code",
   "execution_count": 52,
   "id": "2f561b41-e82a-4f1d-85b8-3db21d7ccb89",
   "metadata": {},
   "outputs": [],
   "source": [
    "Bet.to_csv('Cleaned Bet Response data.csv', index=False)"
   ]
  },
  {
   "cell_type": "code",
   "execution_count": null,
   "id": "eacda0a4-4503-480e-9d0e-bb517051c720",
   "metadata": {},
   "outputs": [],
   "source": []
  }
 ],
 "metadata": {
  "kernelspec": {
   "display_name": "Python 3 (ipykernel)",
   "language": "python",
   "name": "python3"
  },
  "language_info": {
   "codemirror_mode": {
    "name": "ipython",
    "version": 3
   },
   "file_extension": ".py",
   "mimetype": "text/x-python",
   "name": "python",
   "nbconvert_exporter": "python",
   "pygments_lexer": "ipython3",
   "version": "3.12.7"
  }
 },
 "nbformat": 4,
 "nbformat_minor": 5
}
